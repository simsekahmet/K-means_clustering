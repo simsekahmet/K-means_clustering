{
  "nbformat": 4,
  "nbformat_minor": 0,
  "metadata": {
    "colab": {
      "provenance": [],
      "authorship_tag": "ABX9TyORqvxxRXX/WSwsGl+biYxA",
      "include_colab_link": true
    },
    "kernelspec": {
      "name": "python3",
      "display_name": "Python 3"
    },
    "language_info": {
      "name": "python"
    }
  },
  "cells": [
    {
      "cell_type": "markdown",
      "metadata": {
        "id": "view-in-github",
        "colab_type": "text"
      },
      "source": [
        "<a href=\"https://colab.research.google.com/github/simsekahmet/K-means_clustering/blob/main/k_means.ipynb\" target=\"_parent\"><img src=\"https://colab.research.google.com/assets/colab-badge.svg\" alt=\"Open In Colab\"/></a>"
      ]
    },
    {
      "cell_type": "code",
      "execution_count": null,
      "metadata": {
        "id": "ACdyL8mmZ0q8"
      },
      "outputs": [],
      "source": [
        "import pandas as pd\n",
        "import numpy as np\n",
        "import matplotlib.pyplot as plt\n",
        "import seaborn as sns\n",
        "sns.set()\n",
        "from sklearn.cluster import KMeans"
      ]
    },
    {
      "cell_type": "code",
      "source": [
        "df = pd.read_csv(\"iris_dataset.csv\")\n",
        "x = df.iloc[:,0:2]\n",
        "x1 = df.iloc[:,2:4]\n",
        "df.head()\n"
      ],
      "metadata": {
        "id": "sX6f3ohRdaHP"
      },
      "execution_count": null,
      "outputs": []
    },
    {
      "cell_type": "markdown",
      "source": [
        "**Finding the best K value**"
      ],
      "metadata": {
        "id": "L-c-ydtbdc0F"
      }
    },
    {
      "cell_type": "code",
      "source": [
        "def best_k_values(x, cl_num=10):\n",
        "    \"\"\"Finding the best K value for K-means Clustering\n",
        "\n",
        "    --------------------\n",
        "    Args:\n",
        "        x (DataFrame): independent variables (2 DataFrame column)\n",
        "        cl_num (int, optional): number of optimizations to be made for Elbow method. Defaults to: 10\n",
        "\n",
        "    --------------------\n",
        "    Returns: Graph of optimization\n",
        "\n",
        "    --------------------\n",
        "    Example:\n",
        "        x = df.iloc[:,0:2]\n",
        "                                        or\n",
        "        x1 = df.iloc[:,2:4]\n",
        "    \"\"\"\n",
        "    wcss =[KMeans(i).fit(x).inertia_ for i in range(1,cl_num)]\n",
        "    number_clusters = range(1,cl_num)\n",
        "    plt.figure()\n",
        "    plt.plot(number_clusters, wcss)\n",
        "    plt.title('The Elbow Method')\n",
        "    plt.xlabel('Number of clusters')\n",
        "    plt.ylabel('Within-cluster Sum of Squares')"
      ],
      "metadata": {
        "id": "43qSU5RFdbo4"
      },
      "execution_count": null,
      "outputs": []
    },
    {
      "cell_type": "code",
      "source": [
        "best_k_values(x)"
      ],
      "metadata": {
        "id": "YwH2z-1sdjec"
      },
      "execution_count": null,
      "outputs": []
    },
    {
      "cell_type": "markdown",
      "source": [
        "**K-Means Clustering**"
      ],
      "metadata": {
        "id": "yiSiG0R1extX"
      }
    },
    {
      "cell_type": "code",
      "source": [
        "def kmeans_clustering(x, k, scale = False):\n",
        "    \"\"\"K-means Clustering\n",
        "\n",
        "    --------------------\n",
        "    Args:\n",
        "        x (DataFrame): independent variables (2 DataFrame column)\n",
        "        k (int): K value for clustering\n",
        "        scale (bool, optional): Scaling. Defaults to: 10\n",
        "\n",
        "    --------------------\n",
        "    Returns: Graph of clustered data\n",
        "\n",
        "    --------------------\n",
        "    Example:\n",
        "        x = df.iloc[:,0:2]\n",
        "        k = 3\n",
        "                                        or\n",
        "        x1 = df.iloc[:,2:4]\n",
        "        k= 3\n",
        "    \"\"\"\n",
        "\n",
        "    if scale:\n",
        "        from sklearn import preprocessing\n",
        "\n",
        "        x_scaled = preprocessing.scale(x)\n",
        "        kmeans = KMeans(k).fit(x_scaled)\n",
        "        identified_clusters = kmeans.fit_predict(x_scaled)\n",
        "        plt.figure()\n",
        "        plt.scatter(x.iloc[:,0], x.iloc[:,1], c=identified_clusters, cmap=\"rainbow\")\n",
        "        plt.xlabel(pd.DataFrame(x).columns.values[0])\n",
        "        plt.ylabel(pd.DataFrame(x).columns.values[1])\n",
        "        plt.show()\n",
        "    else:\n",
        "        kmeans = KMeans(k).fit(x)\n",
        "        identified_clusters = kmeans.fit_predict(x)\n",
        "        plt.figure()\n",
        "        plt.scatter(x.iloc[:,0], x.iloc[:,1], c=identified_clusters, cmap=\"rainbow\")\n",
        "        plt.xlabel(pd.DataFrame(x).columns.values[0])\n",
        "        plt.ylabel(pd.DataFrame(x).columns.values[1])\n",
        "        plt.show()"
      ],
      "metadata": {
        "id": "2k4h-wO0dlQe"
      },
      "execution_count": null,
      "outputs": []
    },
    {
      "cell_type": "code",
      "source": [
        "kmeans_clustering(x, 3)"
      ],
      "metadata": {
        "id": "8uBHAiBgdm_0"
      },
      "execution_count": null,
      "outputs": []
    }
  ]
}